{
 "cells": [
  {
   "cell_type": "markdown",
   "metadata": {},
   "source": [
    "# TF to Torch Conversion\n",
    "\n",
    "## Purpose\n",
    "Reproduce the original SynthMorph demo in Torch.\n",
    "- Data generation\n",
    "- Registration model training\n",
    "- Registration (inference) examples  "
   ]
  },
  {
   "cell_type": "code",
   "execution_count": null,
   "metadata": {
    "tags": []
   },
   "outputs": [
    {
     "ename": "",
     "evalue": "",
     "output_type": "error",
     "traceback": [
      "\u001b[1;31mRunning cells with 'synthmorph' requires the ipykernel package.\n",
      "\u001b[1;31mRun the following command to install 'ipykernel' into the Python environment. \n",
      "\u001b[1;31mCommand: 'conda install -n synthmorph ipykernel --update-deps --force-reinstall'"
     ]
    }
   ],
   "source": [
    "%load_ext autoreload\n",
    "%autoreload 2"
   ]
  },
  {
   "cell_type": "code",
   "execution_count": null,
   "metadata": {
    "tags": []
   },
   "outputs": [],
   "source": [
    "import vte.experiments.voxel_morph.model.synthmorph as models\n",
    "import vte.experiments.voxel_morph.model.synthmorph_new as new\n",
    "import vte.experiments.voxel_morph.datamodule.synth as datamodule\n",
    "from vte.experiments.voxel_morph.synthmorph_utils import(\n",
    "    conform, post_predict, image_to_numpy,\\\n",
    "    invert_grayscale, overlay_images,\\\n",
    "    plot_array_row, superimpose_circles,\\\n",
    "    convert_to_single_rgb, rotate\n",
    ")\n",
    "# import vte.experiments.voxel_morph.model2 as model2\n",
    "# import vte.experiments.voxel_morph.layers as layers\n",
    "from pathlib import Path\n",
    "import urllib.request\n",
    "from PIL import Image\n",
    "from matplotlib import pyplot as plt\n",
    "from cv2 import resize\n",
    "import numpy as np \n",
    "import torch\n",
    "from torch.utils.data import Dataset, DataLoader\n",
    "from torchvision.datasets import MNIST\n",
    "import pytorch_lightning as pl"
   ]
  },
  {
   "cell_type": "markdown",
   "metadata": {},
   "source": [
    "## 1. Synthetic Images\n",
    "Currrently still using NumPy code to generate synthetic labels and images, Torch implementation is still WIP."
   ]
  },
  {
   "cell_type": "markdown",
   "metadata": {},
   "source": [
    "### 1.1. Generate Label (i.e. Segmentation) Map"
   ]
  },
  {
   "cell_type": "code",
   "execution_count": null,
   "metadata": {
    "tags": []
   },
   "outputs": [],
   "source": [
    "# Input shapes.\n",
    "in_shape = (256,) * 2\n",
    "num_dim = len(in_shape)\n",
    "num_label = 16"
   ]
  },
  {
   "cell_type": "code",
   "execution_count": null,
   "metadata": {
    "tags": []
   },
   "outputs": [],
   "source": [
    "label_map = datamodule.generate_map(in_shape, num_label)\n",
    "plt.imshow(label_map, cmap='tab20c')"
   ]
  },
  {
   "cell_type": "markdown",
   "metadata": {},
   "source": [
    "### 1.2. Generate Image from Label Map"
   ]
  },
  {
   "cell_type": "code",
   "execution_count": null,
   "metadata": {
    "tags": []
   },
   "outputs": [],
   "source": [
    "n = 4\n",
    "gen_images = [datamodule.map_to_image(label_map) for _ in range (n)]\n",
    "\n",
    "# Set up the subplot layout\n",
    "fig, axes = plt.subplots(1, n, figsize=(n*3, 3))\n",
    "\n",
    "# Iterate over the images and plot them in the subplots\n",
    "for i in range(n):\n",
    "    axes[i].imshow(gen_images[i][1], cmap='gray')\n",
    "    axes[i].axis('off')\n",
    "\n",
    "# Adjust the spacing between subplots\n",
    "plt.subplots_adjust(wspace=0.05)\n",
    "\n",
    "# Display the plots\n",
    "plt.show()\n"
   ]
  },
  {
   "cell_type": "code",
   "execution_count": null,
   "metadata": {
    "tags": []
   },
   "outputs": [],
   "source": [
    "# Warning: One label map takes about 6 seconds to generate\n",
    "# WIP to use Torch instead of NumPy for label map  generation\n",
    "size= 40\n",
    "in_shape = (256,) * 2\n",
    "num_labels = 16\n",
    "train_data = datamodule.SynthMorphOnlineDataset(\n",
    "    size=size,\n",
    "    input_size=in_shape,\n",
    "    num_labels=num_labels,\n",
    ")\n",
    "\n",
    "dataloader = DataLoader(\n",
    "    dataset=train_data,\n",
    "    batch_size=1,\n",
    "    num_workers=8,\n",
    ")"
   ]
  },
  {
   "cell_type": "markdown",
   "metadata": {},
   "source": [
    "## Model Training"
   ]
  },
  {
   "cell_type": "code",
   "execution_count": null,
   "metadata": {
    "tags": []
   },
   "outputs": [],
   "source": [
    "# Fresh model\n",
    "in_shape = (256,) * 2\n",
    "unet_enc_nf = [256] * 4\n",
    "unet_dec_nf = [256] * 8\n",
    "model = new.SynthMorph(\n",
    "    vol_size=in_shape,\n",
    "    num_labels=train_data.num_labels,\n",
    "    enc_nf=unet_enc_nf,\n",
    "    dec_nf=unet_dec_nf,\n",
    "    lmd=1,\n",
    ")"
   ]
  },
  {
   "cell_type": "code",
   "execution_count": null,
   "metadata": {
    "tags": []
   },
   "outputs": [],
   "source": [
    "# # Model from checkpoint\n",
    "# checkpoint_path = './lightning_logs/version_67/checkpoints/epoch=9999-step=400000.ckpt'\n",
    "# in_shape = (256,) * 2\n",
    "# unet_enc_nf = [256] * 4\n",
    "# unet_dec_nf = [256] * 8\n",
    "# model = model.load_from_checkpoint(\n",
    "#     checkpoint_path, \n",
    "#     vol_size=in_shape,\n",
    "#     num_labels=train_data.num_labels,\n",
    "#     enc_nf=unet_enc_nf,\n",
    "#     dec_nf=unet_dec_nf,\n",
    "#     lmd=1, \n",
    "# )"
   ]
  },
  {
   "cell_type": "code",
   "execution_count": null,
   "metadata": {
    "tags": []
   },
   "outputs": [],
   "source": [
    "max_epochs = 10000\n",
    "steps = 40\n",
    "max_steps = max_epochs * steps\n",
    "trainer = pl.Trainer(\n",
    "    accelerator='gpu',\n",
    "    max_epochs=max_epochs,\n",
    "    max_steps=max_steps,\n",
    ")\n"
   ]
  },
  {
   "cell_type": "code",
   "execution_count": null,
   "metadata": {
    "tags": []
   },
   "outputs": [],
   "source": [
    "trainer.fit(model=model, train_dataloaders=dataloader)"
   ]
  },
  {
   "cell_type": "markdown",
   "metadata": {
    "tags": []
   },
   "source": [
    "## Model Inference and Evaluation"
   ]
  },
  {
   "cell_type": "code",
   "execution_count": null,
   "metadata": {
    "tags": []
   },
   "outputs": [],
   "source": [
    "# Fresh model\n",
    "in_shape = (256,) * 2\n",
    "unet_enc_nf = [256] * 4\n",
    "unet_dec_nf = [256] * 8\n",
    "model = new.SynthMorph(\n",
    "    vol_size=in_shape,\n",
    "    num_labels=train_data.num_labels,\n",
    "    enc_nf=unet_enc_nf,\n",
    "    dec_nf=unet_dec_nf,\n",
    "    lmd=1,\n",
    ")"
   ]
  },
  {
   "cell_type": "code",
   "execution_count": null,
   "metadata": {
    "tags": []
   },
   "outputs": [],
   "source": [
    "# Model from best checkpoint\n",
    "checkpoint_path = './lightning_logs/version_64/checkpoints/epoch=4999-step=200000.ckpt'\n",
    "in_shape = (256,) * 2\n",
    "unet_enc_nf = [256] * 4\n",
    "unet_dec_nf = [256] * 8\n",
    "model = model.load_from_checkpoint(\n",
    "    checkpoint_path, \n",
    "    vol_size=in_shape,\n",
    "    num_labels=16,\n",
    "    enc_nf=unet_enc_nf,\n",
    "    dec_nf=unet_dec_nf,\n",
    "    lmd=1, \n",
    ")"
   ]
  },
  {
   "cell_type": "code",
   "execution_count": null,
   "metadata": {
    "tags": []
   },
   "outputs": [],
   "source": [
    "model = model.cuda()   # temporary fix\n",
    "model = model.eval()"
   ]
  },
  {
   "cell_type": "markdown",
   "metadata": {},
   "source": [
    "### MNIST"
   ]
  },
  {
   "cell_type": "code",
   "execution_count": null,
   "metadata": {
    "tags": []
   },
   "outputs": [],
   "source": [
    "mnist = MNIST(root= \"./data\", train=False, download=True)"
   ]
  },
  {
   "cell_type": "code",
   "execution_count": null,
   "metadata": {
    "tags": []
   },
   "outputs": [],
   "source": [
    "images = np.array(mnist.data)\n",
    "labels = np.array(mnist.targets)\n",
    "indices = np.arange(len(labels))\n",
    "# Dictionary of indices based on target labels\n",
    "label_indices_dict = {}\n",
    "unique_labels = np.unique(labels)\n",
    "for label in unique_labels:\n",
    "    label_indices_dict[label] = np.where(labels == label)[0].tolist()"
   ]
  },
  {
   "cell_type": "code",
   "execution_count": null,
   "metadata": {
    "tags": []
   },
   "outputs": [],
   "source": [
    "# Example prediction\n",
    "in_shape = (256,) * 2\n",
    "digit = 0\n",
    "indices = label_indices_dict[digit]\n",
    "ori_moving = images[indices[342]]\n",
    "ori_fixed = images[indices[233]]\n",
    "moving = conform(x=ori_moving, in_shape=in_shape)\n",
    "fixed = conform(x=ori_fixed, in_shape=in_shape)\n",
    "moved, warp = model.predict_step(moving, fixed)\n",
    "moved, warp = post_predict(moved), post_predict(warp)\n",
    "moving, fixed = np.squeeze(moving), np.squeeze(fixed)"
   ]
  },
  {
   "cell_type": "code",
   "execution_count": null,
   "metadata": {
    "tags": []
   },
   "outputs": [],
   "source": [
    "movement_plot = [moving, fixed, moved]\n",
    "movement_headers = ['Moving', 'Fixed', 'Moved']\n",
    "plot_array_row(movement_plot, movement_headers, cmap='gray')"
   ]
  },
  {
   "cell_type": "code",
   "execution_count": null,
   "metadata": {
    "tags": []
   },
   "outputs": [],
   "source": [
    "from scipy.ndimage.filters import gaussian_filter\n",
    "warp_plot = [warp[0, ...], warp[1, ...]]\n",
    "warp_headers=['Warp X-Axis', 'Warp Y-Axis']\n",
    "plot_array_row(warp_plot, warp_headers, cmap='gray')"
   ]
  },
  {
   "cell_type": "markdown",
   "metadata": {},
   "source": [
    "### Oasis-1 2D (Brain dataset)"
   ]
  },
  {
   "cell_type": "code",
   "execution_count": null,
   "metadata": {
    "tags": []
   },
   "outputs": [],
   "source": [
    "oasis_path = Path.home() / \"oasis_2d\"\n",
    "oasis_path.mkdir(exist_ok=True)\n",
    "filename = oasis_path / '2D-OASIS-TUTORIAL.npz'\n",
    "if not filename.exists():\n",
    "    url = 'https://surfer.nmr.mgh.harvard.edu/pub/data/voxelmorph/2D-OASIS-TUTORIAL.npz'\n",
    "    urllib.request.urlretrieve(url, filename)\n",
    "oasis_data = np.load(filename)['images']\n"
   ]
  },
  {
   "cell_type": "code",
   "execution_count": null,
   "metadata": {
    "tags": []
   },
   "outputs": [],
   "source": [
    "in_shape = (256,) * 2\n",
    "ori_moving = oasis_data[20]\n",
    "ori_fixed = oasis_data[1]\n",
    "moving = conform(x=ori_moving, in_shape=in_shape)\n",
    "fixed = conform(x=ori_fixed, in_shape=in_shape)\n",
    "moved, warp = model.predict_step(moving, fixed)\n",
    "moved, warp = post_predict(moved), post_predict(warp)\n",
    "moving, fixed = np.squeeze(moving), np.squeeze(fixed)"
   ]
  },
  {
   "cell_type": "code",
   "execution_count": null,
   "metadata": {
    "tags": []
   },
   "outputs": [],
   "source": [
    "movement_plot = [moving, fixed, moved]\n",
    "movement_headers = ['Moving', 'Fixed', 'Moved']\n",
    "plot_array_row(movement_plot, movement_headers, cmap='gray')"
   ]
  },
  {
   "cell_type": "code",
   "execution_count": null,
   "metadata": {
    "tags": []
   },
   "outputs": [],
   "source": [
    "warp_plot = [warp[0, ...], warp[1, ...]]\n",
    "warp_headers=['Warp X-Axis', 'Warp Y-Axis']\n",
    "plot_array_row(warp_plot, warp_headers, cmap='gray')"
   ]
  },
  {
   "cell_type": "markdown",
   "metadata": {},
   "source": [
    "### Affine registration test"
   ]
  },
  {
   "cell_type": "markdown",
   "metadata": {},
   "source": [
    "#### Superimposed circles on synthetic image"
   ]
  },
  {
   "cell_type": "code",
   "execution_count": null,
   "metadata": {
    "tags": []
   },
   "outputs": [],
   "source": [
    "# Label generation\n",
    "in_shape = (256,) * 2\n",
    "num_dim = len(in_shape)\n",
    "num_label = 16\n",
    "label_map = datamodule.generate_map(in_shape, num_label)"
   ]
  },
  {
   "cell_type": "code",
   "execution_count": null,
   "metadata": {
    "tags": []
   },
   "outputs": [],
   "source": [
    "# Image generation\n",
    "ori_image = np.squeeze(datamodule.map_to_image(label_map)[1])\n",
    "image = ori_image.copy()\n"
   ]
  },
  {
   "cell_type": "code",
   "execution_count": null,
   "metadata": {
    "tags": []
   },
   "outputs": [],
   "source": [
    "# Superimpose circles on image\n",
    "pixel_value = 255\n",
    "size_range = (0.030, 0.030)\n",
    "dist_range = (70, 71)\n",
    "rotate = 0\n",
    "x_shift = 0\n",
    "y_shift = 0\n",
    "superimposed = superimpose_circles(\n",
    "    image, \n",
    "    pixel_value, \n",
    "    size_range, \n",
    "    dist_range, \n",
    "    rotate,\n",
    "    x_shift,\n",
    "    y_shift,\n",
    ")\n",
    "\n",
    "superimposed_array = [ori_image, superimposed]\n",
    "superimposed_headers = ['Original', 'Superimposed']\n",
    "plot_array_row(superimposed_array, superimposed_headers, cmap='gray')"
   ]
  },
  {
   "cell_type": "code",
   "execution_count": null,
   "metadata": {
    "tags": []
   },
   "outputs": [],
   "source": [
    "# Registration using random mask\n",
    "mask = np.zeros(shape=(256, 256), dtype=np.float32)\n",
    "mask = superimpose_circles(\n",
    "    mask, \n",
    "    pixel_value=255, \n",
    "    size_range=(0.030, 0.030), \n",
    "    dist_range=(70, 71), \n",
    "    rotate=0,\n",
    "    x_shift=3,\n",
    "    y_shift=3,\n",
    ")\n",
    "moving = conform(x=mask, in_shape=in_shape)\n",
    "fixed = conform(x=superimposed, in_shape=in_shape)\n",
    "\n",
    "moved, warp = model.predict_step(moving, fixed)\n",
    "moved, warp = post_predict(moved), post_predict(warp)\n",
    "moving, fixed = np.squeeze(moving), np.squeeze(fixed)  # post-process for plotting"
   ]
  },
  {
   "cell_type": "code",
   "execution_count": null,
   "metadata": {
    "tags": []
   },
   "outputs": [],
   "source": [
    "movement_plot = [moving, fixed, moved]\n",
    "movement_headers = ['Moving', 'Fixed', 'Moved']\n",
    "plot_array_row(movement_plot, movement_headers, cmap='gray')"
   ]
  },
  {
   "cell_type": "code",
   "execution_count": null,
   "metadata": {
    "tags": []
   },
   "outputs": [],
   "source": [
    "rgb_fixed = convert_to_single_rgb(fixed, 'red')\n",
    "rgb_moving = convert_to_single_rgb(moving, 'green')\n",
    "rgb_moved = convert_to_single_rgb(moved, 'blue')\n",
    "\n",
    "overlay_before = overlay_images(rgb_fixed, rgb_moving)\n",
    "overlay_after = overlay_images(rgb_fixed, rgb_moved)\n",
    "\n",
    "overlay_plot = [overlay_before, overlay_after,]\n",
    "overlay_headers = ['Fixed and Moving', 'Fixed and Moved']\n",
    "plot_array_row(overlay_plot, overlay_headers, cmap=None)"
   ]
  },
  {
   "cell_type": "code",
   "execution_count": null,
   "metadata": {
    "tags": []
   },
   "outputs": [],
   "source": [
    "warp_plot = [warp[0, ...], warp[1, ...]]\n",
    "warp_headers=['Warp X-Axis', 'Warp Y-Axis']\n",
    "plot_array_row(warp_plot, warp_headers, cmap='gray')"
   ]
  },
  {
   "cell_type": "markdown",
   "metadata": {},
   "source": [
    "\n",
    "### Test Pre-trained Weights\n",
    "Weights link (Keras .h5): <br>\n",
    "https://drive.google.com/uc?id=1xridvtyEWgWsWJPYVrQfDCtSgbj2beRz"
   ]
  },
  {
   "cell_type": "code",
   "execution_count": null,
   "metadata": {},
   "outputs": [],
   "source": []
  },
  {
   "cell_type": "code",
   "execution_count": null,
   "metadata": {},
   "outputs": [],
   "source": []
  }
 ],
 "metadata": {
  "kernelspec": {
   "display_name": "synthmorph",
   "language": "python",
   "name": "python3"
  },
  "language_info": {
   "codemirror_mode": {
    "name": "ipython",
    "version": 3
   },
   "file_extension": ".py",
   "mimetype": "text/x-python",
   "name": "python",
   "nbconvert_exporter": "python",
   "pygments_lexer": "ipython3",
   "version": "3.8.18"
  }
 },
 "nbformat": 4,
 "nbformat_minor": 4
}
