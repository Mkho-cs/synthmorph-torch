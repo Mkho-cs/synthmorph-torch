{
 "cells": [
  {
   "cell_type": "markdown",
   "metadata": {},
   "source": [
    "# SynthMorph PyTorch Demo\n",
    "\n",
    "## Purpose\n",
    "Reproduce the original SynthMorph demo in Torch.\n",
    "- Data generation\n",
    "- Registration model training\n",
    "- Registration (inference) examples  "
   ]
  },
  {
   "cell_type": "code",
   "execution_count": null,
   "metadata": {
    "tags": []
   },
   "outputs": [],
   "source": [
    "%load_ext autoreload\n",
    "%autoreload 2"
   ]
  },
  {
   "cell_type": "code",
   "execution_count": null,
   "metadata": {
    "tags": []
   },
   "outputs": [],
   "source": [
    "from pathlib import Path\n",
    "import urllib.request\n",
    "from tqdm import tqdm\n",
    "from matplotlib import pyplot as plt\n",
    "import numpy as np \n",
    "import torch\n",
    "import torch.multiprocessing as mp\n",
    "from torch.utils.data import DataLoader\n",
    "from torchvision.datasets import MNIST\n",
    "import pytorch_lightning as pl\n",
    "\n",
    "# local code\n",
    "from synthmorph import models, layers, losses, datamodule as dm, utils\n"
   ]
  },
  {
   "cell_type": "code",
   "execution_count": null,
   "metadata": {},
   "outputs": [],
   "source": [
    "device = 'cuda' if torch.cuda.is_available() else 'cpu'     # note: only gpu has been tested so far\n",
    "mp.set_start_method('spawn')"
   ]
  },
  {
   "cell_type": "markdown",
   "metadata": {},
   "source": [
    "## SynthMorph Generation Demo"
   ]
  },
  {
   "cell_type": "markdown",
   "metadata": {},
   "source": [
    "### Generate Label (i.e. Segmentation) Map"
   ]
  },
  {
   "cell_type": "code",
   "execution_count": null,
   "metadata": {
    "tags": []
   },
   "outputs": [],
   "source": [
    "# Input shapes.\n",
    "in_shape = (256,) * 2\n",
    "num_dim = len(in_shape)\n",
    "num_label = 2"
   ]
  },
  {
   "cell_type": "code",
   "execution_count": null,
   "metadata": {
    "tags": []
   },
   "outputs": [],
   "source": [
    "label_map = dm.generate_map(in_shape, num_label, device=device)\n",
    "label_map_viz = label_map.tolist() if device == \"cuda\" else label_map.numpy()\n",
    "\n",
    "plt.imshow(label_map_viz, cmap='tab20c')\n",
    "plt.gca().set_xticks([])\n",
    "plt.gca().set_yticks([])\n",
    "plt.show()"
   ]
  },
  {
   "cell_type": "markdown",
   "metadata": {},
   "source": [
    "### Generate Image from Label Map"
   ]
  },
  {
   "cell_type": "code",
   "execution_count": null,
   "metadata": {
    "tags": []
   },
   "outputs": [],
   "source": [
    "n = 4\n",
    "gen_arg = dict(\n",
    "    warp_std=3,\n",
    "    warp_res=(8, 16, 32),\n",
    ")\n",
    "\n",
    "gen = [dm.labels_to_image(label_map, **gen_arg) for _ in tqdm(range(n))]\n",
    "gen_images = [g['image'] for g in gen]\n",
    "gen_labels= [g['label'] for g in gen]\n",
    "\n",
    "# Set up the subplot layout\n",
    "plot_num = min(n, 4)\n",
    "fig, axes = plt.subplots(1, plot_num, figsize=(plot_num*8, 8))\n",
    "# Iterate over the images and plot them in the subplots\n",
    "\n",
    "for i in range(plot_num):\n",
    "    image = gen_images[i].squeeze().tolist()\n",
    "    axes[i].imshow(image, cmap='gray')\n",
    "    axes[i].axis('off')\n",
    "\n",
    "# Adjust the spacing between subplots\n",
    "plt.subplots_adjust(wspace=0.05)\n",
    "\n",
    "# Display the plots\n",
    "plt.show()\n"
   ]
  },
  {
   "cell_type": "code",
   "execution_count": null,
   "metadata": {},
   "outputs": [],
   "source": [
    "# Plot each label of first image \n",
    "plot_num = num_label + 1\n",
    "fig, axes = plt.subplots(1, plot_num, figsize=(plot_num*8, 8))\n",
    "axes[0].imshow(gen_images[0].squeeze().tolist(), cmap='gray')\n",
    "axes[0].axis('off')\n",
    "for i in range(1, plot_num):\n",
    "    image = gen_labels[0].squeeze().tolist()[i - 1]\n",
    "    axes[i].imshow(image, cmap='gray')\n",
    "    axes[i].axis('off')\n",
    "\n",
    "plt.subplots_adjust(wspace=0.05)\n",
    "plt.show()"
   ]
  },
  {
   "cell_type": "markdown",
   "metadata": {},
   "source": [
    "## Model Training"
   ]
  },
  {
   "cell_type": "code",
   "execution_count": null,
   "metadata": {
    "tags": []
   },
   "outputs": [],
   "source": [
    "size= 40\n",
    "in_shape = (256,) * 2\n",
    "num_labels = 2\n",
    "gen_arg = dict(\n",
    "    warp_std=3,\n",
    "    warp_res=(8, 16, 32),\n",
    ")\n",
    "\n",
    "train_data = dm.SynthMorphDataset(\n",
    "    size=size,\n",
    "    input_size=in_shape,\n",
    "    num_labels=num_labels,\n",
    "    gen_arg=gen_arg,\n",
    ")\n",
    "dataloader = DataLoader(\n",
    "    dataset=train_data,\n",
    "    batch_size=1,\n",
    "    num_workers=8,\n",
    "    shuffle=True,\n",
    "    persistent_workers=True,\n",
    ")"
   ]
  },
  {
   "cell_type": "code",
   "execution_count": null,
   "metadata": {
    "tags": []
   },
   "outputs": [],
   "source": [
    "# You can generate the Torch version of the original author's weights from tf2torch.ipynb\n",
    "# State dict weights for the registration model, different from PL checkpoint\n",
    "reg_weights = Path(\".\") / \"torch_weights.pth\"   # 'None' for no weight loading\n",
    "# Fresh model\n",
    "in_shape = (256,) * 2\n",
    "unet_enc_nf = [256] * 4\n",
    "unet_dec_nf = [256] * 8\n",
    "model = models.SynthMorph(\n",
    "    vol_size=in_shape,\n",
    "    num_labels=train_data.num_labels,\n",
    "    enc_nf=unet_enc_nf,\n",
    "    dec_nf=unet_dec_nf,\n",
    "    lmd=1,\n",
    "    reg_weights=reg_weights\n",
    ")\n",
    "n_param = utils.torch_model_parameters(model.reg_model)"
   ]
  },
  {
   "cell_type": "code",
   "execution_count": null,
   "metadata": {
    "tags": []
   },
   "outputs": [],
   "source": [
    "# # Model from checkpoint\n",
    "# checkpoint_path = './lightning_logs/version_67/checkpoints/epoch=9999-step=400000.ckpt'\n",
    "# in_shape = (256,) * 2\n",
    "# unet_enc_nf = [256] * 4\n",
    "# unet_dec_nf = [256] * 8\n",
    "# model = model.load_from_checkpoint(\n",
    "#     checkpoint_path, \n",
    "#     vol_size=in_shape,\n",
    "#     num_labels=train_data.num_labels,\n",
    "#     enc_nf=unet_enc_nf,\n",
    "#     dec_nf=unet_dec_nf,\n",
    "#     lmd=1, \n",
    "# )"
   ]
  },
  {
   "cell_type": "code",
   "execution_count": null,
   "metadata": {
    "tags": []
   },
   "outputs": [],
   "source": [
    "max_epochs = 100\n",
    "steps = train_data.size\n",
    "max_steps = max_epochs * steps\n",
    "trainer = pl.Trainer(\n",
    "    accelerator='gpu',\n",
    "    max_epochs=max_epochs,\n",
    "    max_steps=max_steps,\n",
    "    log_every_n_steps=steps\n",
    ")\n"
   ]
  },
  {
   "cell_type": "code",
   "execution_count": null,
   "metadata": {
    "tags": []
   },
   "outputs": [],
   "source": [
    "trainer.fit(model=model, train_dataloaders=dataloader)"
   ]
  },
  {
   "cell_type": "markdown",
   "metadata": {
    "tags": []
   },
   "source": [
    "## Model  Evaluation"
   ]
  },
  {
   "cell_type": "code",
   "execution_count": null,
   "metadata": {
    "tags": []
   },
   "outputs": [],
   "source": [
    "# # Model from best checkpoint\n",
    "# checkpoint_path = './lightning_logs/version_70/checkpoints/epoch=4913-step=196560.ckpt'\n",
    "# in_shape = (256,) * 2\n",
    "# unet_enc_nf = [256] * 4\n",
    "# unet_dec_nf = [256] * 8\n",
    "# model = models.SynthMorph.load_from_checkpoint(\n",
    "#     checkpoint_path, \n",
    "#     vol_size=in_shape,\n",
    "#     num_labels=16,\n",
    "#     enc_nf=unet_enc_nf,\n",
    "#     dec_nf=unet_dec_nf,\n",
    "# )"
   ]
  },
  {
   "cell_type": "code",
   "execution_count": null,
   "metadata": {
    "tags": []
   },
   "outputs": [],
   "source": [
    "model = model.cuda()   # temporary fix\n",
    "model = model.eval()"
   ]
  },
  {
   "cell_type": "markdown",
   "metadata": {},
   "source": [
    "### SynthMorph Images"
   ]
  },
  {
   "cell_type": "code",
   "execution_count": null,
   "metadata": {},
   "outputs": [],
   "source": [
    "gen = next(iter(dataloader))\n",
    "moving = gen['moving']\n",
    "fixed = gen['fixed']\n",
    "moved, warp = model.predict_step(moving, fixed)\n",
    "moved_np, warp_np = dm.torch2numpy(moved), dm.torch2numpy(warp)\n",
    "moving_np, fixed_np = dm.torch2numpy(moving), dm.torch2numpy(fixed)"
   ]
  },
  {
   "cell_type": "code",
   "execution_count": null,
   "metadata": {},
   "outputs": [],
   "source": [
    "movement_plot = [moving_np, fixed_np, moved_np]\n",
    "movement_headers = ['Moving', 'Fixed', 'Moved']\n",
    "utils.plot_array_row(movement_plot, movement_headers, cmap='gray')"
   ]
  },
  {
   "cell_type": "code",
   "execution_count": null,
   "metadata": {},
   "outputs": [],
   "source": [
    "warp_plot = [warp_np[0, ...], warp_np[1, ...]]\n",
    "warp_headers=['Warp X-Axis', 'Warp Y-Axis']\n",
    "utils.plot_array_row(warp_plot, warp_headers, cmap='gray')"
   ]
  },
  {
   "cell_type": "code",
   "execution_count": null,
   "metadata": {},
   "outputs": [],
   "source": [
    "# Evaluate dice score\n",
    "\n",
    "moving_map = gen['moving_map']\n",
    "fixed_map = gen['fixed_map']\n",
    "_, warp = model.predict_step(moving, fixed)\n",
    "moved_map = layers.SpatialTransformer(fill_value=0)([moving_map, warp]).round().clip(0, 1)\n",
    "dice = -losses.Dice().loss(fixed_map, moved_map)\n",
    "dice.tolist()"
   ]
  },
  {
   "cell_type": "code",
   "execution_count": null,
   "metadata": {},
   "outputs": [],
   "source": [
    "# Plot moved label\n",
    "image = moved_np\n",
    "labels =dm.torch2numpy(moved_map)\n",
    "plot_num = labels.shape[0] + 1\n",
    "fig, axes = plt.subplots(1, plot_num, figsize=(plot_num*8, 8))\n",
    "axes[0].imshow(image.squeeze().tolist(), cmap='gray')\n",
    "axes[0].axis('off')\n",
    "for i in range(1, plot_num):\n",
    "    label = labels.squeeze().tolist()[i - 1]\n",
    "    axes[i].imshow(label, cmap='gray')\n",
    "    axes[i].axis('off')\n",
    "\n",
    "plt.subplots_adjust(wspace=0.05)\n",
    "plt.show()"
   ]
  },
  {
   "cell_type": "markdown",
   "metadata": {},
   "source": [
    "### MNIST"
   ]
  },
  {
   "cell_type": "code",
   "execution_count": null,
   "metadata": {
    "tags": []
   },
   "outputs": [],
   "source": [
    "mnist = MNIST(root= \"./data\", train=False, download=True)"
   ]
  },
  {
   "cell_type": "code",
   "execution_count": null,
   "metadata": {
    "tags": []
   },
   "outputs": [],
   "source": [
    "images = np.array(mnist.data)\n",
    "labels = np.array(mnist.targets)\n",
    "indices = np.arange(len(labels))\n",
    "# Dictionary of indices based on target labels\n",
    "label_indices_dict = {}\n",
    "unique_labels = np.unique(labels)\n",
    "for label in unique_labels:\n",
    "    label_indices_dict[label] = np.where(labels == label)[0].tolist()"
   ]
  },
  {
   "cell_type": "code",
   "execution_count": null,
   "metadata": {
    "tags": []
   },
   "outputs": [],
   "source": [
    "# Example prediction\n",
    "in_shape = (256,) * 2\n",
    "digit = 6\n",
    "indices = label_indices_dict[digit]\n",
    "ori_moving = images[indices[455]]\n",
    "ori_fixed = images[indices[32]]\n",
    "moving = dm.conform(x=ori_moving, in_shape=in_shape, device=device)\n",
    "fixed = dm.conform(x=ori_fixed, in_shape=in_shape, device=device)\n",
    "moved, warp = model.predict_step(moving, fixed)\n",
    "moved, warp = dm.torch2numpy(moved), dm.torch2numpy(warp)\n",
    "moving, fixed = moving.tolist(), fixed.tolist()\n",
    "moving, fixed = np.squeeze(moving), np.squeeze(fixed)"
   ]
  },
  {
   "cell_type": "code",
   "execution_count": null,
   "metadata": {
    "tags": []
   },
   "outputs": [],
   "source": [
    "movement_plot = [moving, fixed, moved]\n",
    "movement_headers = ['Moving', 'Fixed', 'Moved']\n",
    "utils.plot_array_row(movement_plot, movement_headers, cmap='gray')"
   ]
  },
  {
   "cell_type": "code",
   "execution_count": null,
   "metadata": {
    "tags": []
   },
   "outputs": [],
   "source": [
    "warp_plot = [warp[0, ...], warp[1, ...]]\n",
    "warp_headers=['Warp X-Axis', 'Warp Y-Axis']\n",
    "utils.plot_array_row(warp_plot, warp_headers, cmap='gray')"
   ]
  },
  {
   "cell_type": "markdown",
   "metadata": {},
   "source": [
    "### Oasis-1 2D (Brain dataset)"
   ]
  },
  {
   "cell_type": "code",
   "execution_count": null,
   "metadata": {
    "tags": []
   },
   "outputs": [],
   "source": [
    "oasis_path = Path.home() / \"oasis_2d\"\n",
    "oasis_path.mkdir(exist_ok=True)\n",
    "filename = oasis_path / '2D-OASIS-TUTORIAL.npz'\n",
    "if not filename.exists():\n",
    "    url = 'https://surfer.nmr.mgh.harvard.edu/pub/data/voxelmorph/2D-OASIS-TUTORIAL.npz'\n",
    "    urllib.request.urlretrieve(url, filename)\n",
    "oasis_data = np.load(filename)['images']\n"
   ]
  },
  {
   "cell_type": "code",
   "execution_count": null,
   "metadata": {
    "tags": []
   },
   "outputs": [],
   "source": [
    "in_shape = (256,) * 2\n",
    "ori_moving = oasis_data[2]\n",
    "ori_fixed = oasis_data[7]\n",
    "moving = dm.conform(x=ori_moving, in_shape=in_shape, device=device)\n",
    "fixed = dm.conform(x=ori_fixed, in_shape=in_shape, device=device)\n",
    "moved, warp = model.predict_step(moving, fixed)\n",
    "moved, warp = dm.torch2numpy(moved), dm.torch2numpy(warp)\n",
    "moving, fixed = moving.detach().cpu().numpy(), fixed.detach().cpu().numpy()\n",
    "moving, fixed = np.squeeze(moving), np.squeeze(fixed)"
   ]
  },
  {
   "cell_type": "code",
   "execution_count": null,
   "metadata": {
    "tags": []
   },
   "outputs": [],
   "source": [
    "movement_plot = [moving, fixed, moved]\n",
    "movement_headers = ['Moving', 'Fixed', 'Moved']\n",
    "utils.plot_array_row(movement_plot, movement_headers, cmap='gray')"
   ]
  },
  {
   "cell_type": "code",
   "execution_count": null,
   "metadata": {
    "tags": []
   },
   "outputs": [],
   "source": [
    "warp_plot = [warp[0, ...], warp[1, ...]]\n",
    "warp_headers=['Warp X-Axis', 'Warp Y-Axis']\n",
    "utils.plot_array_row(warp_plot, warp_headers, cmap='gray')"
   ]
  },
  {
   "cell_type": "markdown",
   "metadata": {},
   "source": [
    "### Affine registration test\n",
    "Evaluates registration for the following properties of target shapes:\n",
    "- Size (scaling)\n",
    "- Coordinates (translation, rotation)"
   ]
  },
  {
   "cell_type": "markdown",
   "metadata": {},
   "source": [
    "#### Superimposed circles on synthetic image\n",
    "Note: The label map is only used to create synthetic images which serve as background, only the circles are considered labels (i.e. target shapes)"
   ]
  },
  {
   "cell_type": "code",
   "execution_count": null,
   "metadata": {
    "tags": []
   },
   "outputs": [],
   "source": [
    "# Label generation\n",
    "in_shape = (256,) * 2\n",
    "num_dim = len(in_shape)\n",
    "num_label = 16\n",
    "label_map = dm.generate_map(in_shape, num_label)"
   ]
  },
  {
   "cell_type": "code",
   "execution_count": null,
   "metadata": {
    "tags": []
   },
   "outputs": [],
   "source": [
    "# Image generation\n",
    "ori_image = np.squeeze(dm.map_to_image(label_map)[1])\n",
    "image = ori_image.copy()\n"
   ]
  },
  {
   "cell_type": "code",
   "execution_count": null,
   "metadata": {
    "tags": []
   },
   "outputs": [],
   "source": [
    "# Example of superimposing circles on image\n",
    "pixel_value = 255\n",
    "size_range = (0.030, 0.030)\n",
    "dist_range = (70, 71)\n",
    "rotate = 0\n",
    "x_shift = 0\n",
    "y_shift = 0\n",
    "superimposed = utils.superimpose_circles(\n",
    "    image, \n",
    "    pixel_value, \n",
    "    size_range, \n",
    "    dist_range, \n",
    "    rotate,\n",
    "    x_shift,\n",
    "    y_shift,\n",
    ")\n",
    "\n",
    "superimposed_array = [ori_image, superimposed]\n",
    "superimposed_headers = ['Original', 'Superimposed']\n",
    "utils.plot_array_row(superimposed_array, superimposed_headers, cmap='gray')"
   ]
  },
  {
   "cell_type": "code",
   "execution_count": null,
   "metadata": {
    "tags": []
   },
   "outputs": [],
   "source": [
    "# Create random image-mask pairs for moving and fixed\n",
    "moving_superimpose = lambda moving: utils.superimpose_circles(\n",
    "    moving, \n",
    "    pixel_value=255, \n",
    "    size_range=(0.030, 0.030), \n",
    "    dist_range=(70, 71), \n",
    "    rotate=0,\n",
    "    x_shift=0,\n",
    "    y_shift=0,\n",
    ")\n",
    "moving= moving_superimpose(np.squeeze(dm.map_to_image(label_map)[1]))\n",
    "\n",
    "fixed_superimpose = lambda fixed: utils.superimpose_circles(\n",
    "    fixed, \n",
    "    pixel_value=255, \n",
    "    size_range=(0.025, 0.035), \n",
    "    dist_range=(65, 75), \n",
    "    rotate=0,\n",
    "    x_shift=3,\n",
    "    y_shift=3,\n",
    ")\n",
    "zeros = np.zeros(shape=(256, 256), dtype=np.float32)\n",
    "fixed_mask = fixed_superimpose(zeros)\n",
    "fixed = fixed_superimpose(np.squeeze(dm.map_to_image(label_map)[1]))\n",
    "\n",
    "\n",
    "\n",
    "moving = dm.conform(x=moving, in_shape=in_shape, device=device)\n",
    "fixed = dm.conform(x=fixed, in_shape=in_shape, device=device)\n",
    "\n",
    "moved, warp = model.predict_step(moving, fixed)\n",
    "moved, warp = dm.torch2numpy(moved), dm.torch2numpy(warp)\n",
    "# post-process for plotting\n",
    "moving, fixed = moving.detach().cpu().numpy(), fixed.detach().cpu().numpy()\n",
    "moving, fixed = np.squeeze(moving), np.squeeze(fixed)  "
   ]
  },
  {
   "cell_type": "code",
   "execution_count": null,
   "metadata": {
    "tags": []
   },
   "outputs": [],
   "source": [
    "movement_plot = [moving, fixed, moved]\n",
    "movement_headers = ['Moving', 'Fixed', 'Moved']\n",
    "utils.plot_array_row(movement_plot, movement_headers, cmap='gray')"
   ]
  },
  {
   "cell_type": "code",
   "execution_count": null,
   "metadata": {
    "tags": []
   },
   "outputs": [],
   "source": [
    "# The labels here are supposed to be the circles only,\n",
    "#  ignore areas which share the same value\n",
    "rgb_fixed = utils.convert_to_single_rgb(fixed_mask, 'red')\n",
    "rgb_moving = utils.convert_to_single_rgb(moving, 'green')\n",
    "rgb_moved = utils.convert_to_single_rgb(moved, 'blue')\n",
    "\n",
    "overlay_before = utils.overlay_images(rgb_fixed, rgb_moving)\n",
    "overlay_after = utils.overlay_images(rgb_fixed, rgb_moved)\n",
    "\n",
    "overlay_plot = [overlay_before, overlay_after,]\n",
    "overlay_headers = ['Fixed and Moving', 'Fixed and Moved']\n",
    "utils.plot_array_row(overlay_plot, overlay_headers, cmap=None)"
   ]
  },
  {
   "cell_type": "code",
   "execution_count": null,
   "metadata": {
    "tags": []
   },
   "outputs": [],
   "source": [
    "warp_plot = [warp[0, ...], warp[1, ...]]\n",
    "warp_headers=['Warp X-Axis', 'Warp Y-Axis']\n",
    "utils.plot_array_row(warp_plot, warp_headers, cmap='gray')"
   ]
  },
  {
   "cell_type": "code",
   "execution_count": null,
   "metadata": {},
   "outputs": [],
   "source": []
  }
 ],
 "metadata": {
  "kernelspec": {
   "display_name": "synthmorph",
   "language": "python",
   "name": "python3"
  },
  "language_info": {
   "codemirror_mode": {
    "name": "ipython",
    "version": 3
   },
   "file_extension": ".py",
   "mimetype": "text/x-python",
   "name": "python",
   "nbconvert_exporter": "python",
   "pygments_lexer": "ipython3",
   "version": "3.8.18"
  }
 },
 "nbformat": 4,
 "nbformat_minor": 4
}
