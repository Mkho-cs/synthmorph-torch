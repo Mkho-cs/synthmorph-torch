{
 "cells": [
  {
   "cell_type": "markdown",
   "metadata": {},
   "source": [
    "# SynthMorph Affine PyTorch Demo\n",
    "## Purpose\n",
    "Reproduce the original affine components of SynthMorph demo in Torch.\n",
    "- Data generation with affine augmentations\n",
    "- Affine registration model training\n",
    "- Registration (inference) examples  "
   ]
  },
  {
   "cell_type": "code",
   "execution_count": 1,
   "metadata": {},
   "outputs": [],
   "source": [
    "%load_ext autoreload\n",
    "%autoreload 2"
   ]
  },
  {
   "cell_type": "code",
   "execution_count": 2,
   "metadata": {},
   "outputs": [],
   "source": [
    "from pathlib import Path\n",
    "import urllib\n",
    "from tqdm import tqdm\n",
    "from matplotlib import pyplot as plt\n",
    "import numpy as np \n",
    "import torch\n",
    "import torch.multiprocessing as mp\n",
    "from torch.utils.data import DataLoader\n",
    "from torchvision.datasets import MNIST\n",
    "import pytorch_lightning as pl\n",
    "\n",
    "# local code\n",
    "from synthmorph import models, layers, losses, datamodule as dm, utils"
   ]
  },
  {
   "cell_type": "code",
   "execution_count": 3,
   "metadata": {},
   "outputs": [],
   "source": [
    "with torch.no_grad():\n",
    "    torch.cuda.empty_cache()\n",
    "device = 'cuda' if torch.cuda.is_available() else 'cpu'     # note: only gpu has been tested so far\n",
    "torch.set_default_device(device)\n",
    "# mp.set_start_method('spawn')"
   ]
  },
  {
   "cell_type": "markdown",
   "metadata": {},
   "source": [
    "## SynthMorph Affine Generation"
   ]
  },
  {
   "cell_type": "markdown",
   "metadata": {},
   "source": [
    "### Generate Label (i.e. Segmentation) Map"
   ]
  },
  {
   "cell_type": "code",
   "execution_count": 4,
   "metadata": {},
   "outputs": [],
   "source": [
    "in_shape = (256,) * 2\n",
    "num_labels = 16"
   ]
  },
  {
   "cell_type": "code",
   "execution_count": 4,
   "metadata": {},
   "outputs": [
    {
     "ename": "AssertionError",
     "evalue": "Torch not compiled with CUDA enabled",
     "output_type": "error",
     "traceback": [
      "\u001b[1;31m---------------------------------------------------------------------------\u001b[0m",
      "\u001b[1;31mAssertionError\u001b[0m                            Traceback (most recent call last)",
      "Cell \u001b[1;32mIn[4], line 5\u001b[0m\n\u001b[0;32m      3\u001b[0m num_dim \u001b[38;5;241m=\u001b[39m \u001b[38;5;28mlen\u001b[39m(in_shape)\n\u001b[0;32m      4\u001b[0m num_label \u001b[38;5;241m=\u001b[39m \u001b[38;5;241m4\u001b[39m\n\u001b[1;32m----> 5\u001b[0m label_map \u001b[38;5;241m=\u001b[39m \u001b[43mdm\u001b[49m\u001b[38;5;241;43m.\u001b[39;49m\u001b[43mgenerate_map\u001b[49m\u001b[43m(\u001b[49m\u001b[43min_shape\u001b[49m\u001b[43m,\u001b[49m\u001b[43m \u001b[49m\u001b[43mnum_label\u001b[49m\u001b[43m,\u001b[49m\u001b[43m \u001b[49m\u001b[43mdevice\u001b[49m\u001b[38;5;241;43m=\u001b[39;49m\u001b[43mdevice\u001b[49m\u001b[43m)\u001b[49m\n\u001b[0;32m      6\u001b[0m n \u001b[38;5;241m=\u001b[39m \u001b[38;5;241m16\u001b[39m\n\u001b[0;32m      7\u001b[0m gen_args \u001b[38;5;241m=\u001b[39m \u001b[38;5;28mdict\u001b[39m(\n\u001b[0;32m      8\u001b[0m     warp_std\u001b[38;5;241m=\u001b[39m\u001b[38;5;241m0\u001b[39m,\n\u001b[0;32m      9\u001b[0m     warp_res\u001b[38;5;241m=\u001b[39m(\u001b[38;5;241m8\u001b[39m, \u001b[38;5;241m16\u001b[39m, \u001b[38;5;241m32\u001b[39m),\n\u001b[0;32m     10\u001b[0m     zero_background\u001b[38;5;241m=\u001b[39m\u001b[38;5;241m1\u001b[39m,\n\u001b[0;32m     11\u001b[0m     affine\u001b[38;5;241m=\u001b[39m\u001b[38;5;28;01mTrue\u001b[39;00m,\n\u001b[0;32m     12\u001b[0m )\n",
      "File \u001b[1;32mc:\\Users\\matthew.khoo.VITROX\\Projects\\git_repos\\synthmorph-torch\\synthmorph\\datamodule.py:80\u001b[0m, in \u001b[0;36mgenerate_map\u001b[1;34m(size, nLabel, device)\u001b[0m\n\u001b[0;32m     73\u001b[0m \u001b[38;5;28;01mdef\u001b[39;00m \u001b[38;5;21mgenerate_map\u001b[39m(\n\u001b[0;32m     74\u001b[0m     size: List[\u001b[38;5;28mint\u001b[39m] \u001b[38;5;241m=\u001b[39m [\u001b[38;5;241m256\u001b[39m, \u001b[38;5;241m256\u001b[39m],\n\u001b[0;32m     75\u001b[0m     nLabel: \u001b[38;5;28mint\u001b[39m \u001b[38;5;241m=\u001b[39m \u001b[38;5;241m16\u001b[39m,\n\u001b[0;32m     76\u001b[0m     device\u001b[38;5;241m=\u001b[39mdevice\n\u001b[0;32m     77\u001b[0m ):\n\u001b[0;32m     79\u001b[0m     num_dim \u001b[38;5;241m=\u001b[39m \u001b[38;5;28mlen\u001b[39m(size)\n\u001b[1;32m---> 80\u001b[0m     out \u001b[38;5;241m=\u001b[39m \u001b[43mdraw_perlin\u001b[49m\u001b[43m(\u001b[49m\n\u001b[0;32m     81\u001b[0m \u001b[43m        \u001b[49m\u001b[43mout_shape\u001b[49m\u001b[38;5;241;43m=\u001b[39;49m\u001b[43m[\u001b[49m\u001b[38;5;241;43m*\u001b[39;49m\u001b[43msize\u001b[49m\u001b[43m,\u001b[49m\u001b[43m \u001b[49m\u001b[43mnLabel\u001b[49m\u001b[43m]\u001b[49m\u001b[43m,\u001b[49m\u001b[43m \u001b[49m\n\u001b[0;32m     82\u001b[0m \u001b[43m        \u001b[49m\u001b[43mscales\u001b[49m\u001b[38;5;241;43m=\u001b[39;49m\u001b[43m[\u001b[49m\u001b[38;5;241;43m32\u001b[39;49m\u001b[43m,\u001b[49m\u001b[43m \u001b[49m\u001b[38;5;241;43m64\u001b[39;49m\u001b[43m]\u001b[49m\u001b[43m,\u001b[49m\u001b[43m \u001b[49m\n\u001b[0;32m     83\u001b[0m \u001b[43m        \u001b[49m\u001b[43mmax_std\u001b[49m\u001b[38;5;241;43m=\u001b[39;49m\u001b[38;5;241;43m1\u001b[39;49m\u001b[43m,\u001b[49m\u001b[43m \u001b[49m\n\u001b[0;32m     84\u001b[0m \u001b[43m        \u001b[49m\u001b[43mdevice\u001b[49m\u001b[38;5;241;43m=\u001b[39;49m\u001b[43mdevice\u001b[49m\n\u001b[0;32m     85\u001b[0m \u001b[43m    \u001b[49m\u001b[43m)\u001b[49m\n\u001b[0;32m     86\u001b[0m     warp \u001b[38;5;241m=\u001b[39m draw_perlin(\n\u001b[0;32m     87\u001b[0m         out_shape\u001b[38;5;241m=\u001b[39m[\u001b[38;5;241m*\u001b[39msize, nLabel, num_dim], \n\u001b[0;32m     88\u001b[0m         scales\u001b[38;5;241m=\u001b[39m[\u001b[38;5;241m16\u001b[39m, \u001b[38;5;241m32\u001b[39m, \u001b[38;5;241m64\u001b[39m], \n\u001b[0;32m     89\u001b[0m         max_std\u001b[38;5;241m=\u001b[39m\u001b[38;5;241m16\u001b[39m, \n\u001b[0;32m     90\u001b[0m         device\u001b[38;5;241m=\u001b[39mdevice\n\u001b[0;32m     91\u001b[0m     )\n\u001b[0;32m     93\u001b[0m     \u001b[38;5;66;03m# Spatial transform\u001b[39;00m\n",
      "File \u001b[1;32mc:\\Users\\matthew.khoo.VITROX\\Projects\\git_repos\\synthmorph-torch\\synthmorph\\datamodule.py:64\u001b[0m, in \u001b[0;36mdraw_perlin\u001b[1;34m(out_shape, scales, min_std, max_std, modulate, dtype, seed, device)\u001b[0m\n\u001b[0;32m     61\u001b[0m     gauss \u001b[38;5;241m=\u001b[39m torch\u001b[38;5;241m.\u001b[39mempty(size\u001b[38;5;241m=\u001b[39m\u001b[38;5;28mtuple\u001b[39m(sample_shape), dtype\u001b[38;5;241m=\u001b[39mdtype, device\u001b[38;5;241m=\u001b[39mdevice)\u001b[38;5;241m.\u001b[39mnormal_(std\u001b[38;5;241m=\u001b[39mstd, generator\u001b[38;5;241m=\u001b[39mrng)\n\u001b[0;32m     63\u001b[0m     zoom \u001b[38;5;241m=\u001b[39m [o \u001b[38;5;241m/\u001b[39m s \u001b[38;5;28;01mfor\u001b[39;00m o, s \u001b[38;5;129;01min\u001b[39;00m \u001b[38;5;28mzip\u001b[39m(out_shape, sample_shape)]\n\u001b[1;32m---> 64\u001b[0m     out \u001b[38;5;241m+\u001b[39m\u001b[38;5;241m=\u001b[39m gauss \u001b[38;5;28;01mif\u001b[39;00m scale \u001b[38;5;241m==\u001b[39m \u001b[38;5;241m1\u001b[39m \u001b[38;5;28;01melse\u001b[39;00m \u001b[43mutils\u001b[49m\u001b[38;5;241;43m.\u001b[39;49m\u001b[43mresize\u001b[49m\u001b[43m(\u001b[49m\u001b[43mgauss\u001b[49m\u001b[43m,\u001b[49m\u001b[43m \u001b[49m\u001b[43mzoom\u001b[49m\u001b[43m[\u001b[49m\u001b[43m:\u001b[49m\u001b[38;5;241;43m-\u001b[39;49m\u001b[38;5;241;43m1\u001b[39;49m\u001b[43m]\u001b[49m\u001b[43m)\u001b[49m\n\u001b[0;32m     66\u001b[0m \u001b[38;5;66;03m# Transform to Torch format\u001b[39;00m\n\u001b[0;32m     67\u001b[0m indices \u001b[38;5;241m=\u001b[39m \u001b[38;5;28mlist\u001b[39m(\u001b[38;5;28mrange\u001b[39m(\u001b[38;5;28mlen\u001b[39m(out\u001b[38;5;241m.\u001b[39mshape)))\n",
      "File \u001b[1;32mc:\\Users\\matthew.khoo.VITROX\\Projects\\git_repos\\synthmorph-torch\\synthmorph\\utils\\morph.py:456\u001b[0m, in \u001b[0;36mresize\u001b[1;34m(vol, zoom_factor, interp_method)\u001b[0m\n\u001b[0;32m    454\u001b[0m lin \u001b[38;5;241m=\u001b[39m [torch\u001b[38;5;241m.\u001b[39mlinspace(\u001b[38;5;241m0.\u001b[39m, vol_shape[d] \u001b[38;5;241m-\u001b[39m \u001b[38;5;241m1.\u001b[39m, new_shape[d]) \u001b[38;5;28;01mfor\u001b[39;00m d \u001b[38;5;129;01min\u001b[39;00m \u001b[38;5;28mrange\u001b[39m (ndims)]\n\u001b[0;32m    455\u001b[0m grid \u001b[38;5;241m=\u001b[39m ndgrid(\u001b[38;5;241m*\u001b[39mlin)\n\u001b[1;32m--> 456\u001b[0m grid \u001b[38;5;241m=\u001b[39m [g\u001b[38;5;241m.\u001b[39mto(\u001b[38;5;124m'\u001b[39m\u001b[38;5;124mcuda\u001b[39m\u001b[38;5;124m'\u001b[39m) \u001b[38;5;28;01mfor\u001b[39;00m g \u001b[38;5;129;01min\u001b[39;00m grid]\n\u001b[0;32m    458\u001b[0m \u001b[38;5;28;01mreturn\u001b[39;00m interpn(vol, grid, interp_method\u001b[38;5;241m=\u001b[39minterp_method)\n",
      "File \u001b[1;32mc:\\Users\\matthew.khoo.VITROX\\Projects\\git_repos\\synthmorph-torch\\synthmorph\\utils\\morph.py:456\u001b[0m, in \u001b[0;36m<listcomp>\u001b[1;34m(.0)\u001b[0m\n\u001b[0;32m    454\u001b[0m lin \u001b[38;5;241m=\u001b[39m [torch\u001b[38;5;241m.\u001b[39mlinspace(\u001b[38;5;241m0.\u001b[39m, vol_shape[d] \u001b[38;5;241m-\u001b[39m \u001b[38;5;241m1.\u001b[39m, new_shape[d]) \u001b[38;5;28;01mfor\u001b[39;00m d \u001b[38;5;129;01min\u001b[39;00m \u001b[38;5;28mrange\u001b[39m (ndims)]\n\u001b[0;32m    455\u001b[0m grid \u001b[38;5;241m=\u001b[39m ndgrid(\u001b[38;5;241m*\u001b[39mlin)\n\u001b[1;32m--> 456\u001b[0m grid \u001b[38;5;241m=\u001b[39m [\u001b[43mg\u001b[49m\u001b[38;5;241;43m.\u001b[39;49m\u001b[43mto\u001b[49m\u001b[43m(\u001b[49m\u001b[38;5;124;43m'\u001b[39;49m\u001b[38;5;124;43mcuda\u001b[39;49m\u001b[38;5;124;43m'\u001b[39;49m\u001b[43m)\u001b[49m \u001b[38;5;28;01mfor\u001b[39;00m g \u001b[38;5;129;01min\u001b[39;00m grid]\n\u001b[0;32m    458\u001b[0m \u001b[38;5;28;01mreturn\u001b[39;00m interpn(vol, grid, interp_method\u001b[38;5;241m=\u001b[39minterp_method)\n",
      "File \u001b[1;32mc:\\Users\\matthew.khoo.VITROX\\Miniconda3\\envs\\synthmorph\\lib\\site-packages\\torch\\utils\\_device.py:77\u001b[0m, in \u001b[0;36mDeviceContext.__torch_function__\u001b[1;34m(self, func, types, args, kwargs)\u001b[0m\n\u001b[0;32m     75\u001b[0m \u001b[38;5;28;01mif\u001b[39;00m func \u001b[38;5;129;01min\u001b[39;00m _device_constructors() \u001b[38;5;129;01mand\u001b[39;00m kwargs\u001b[38;5;241m.\u001b[39mget(\u001b[38;5;124m'\u001b[39m\u001b[38;5;124mdevice\u001b[39m\u001b[38;5;124m'\u001b[39m) \u001b[38;5;129;01mis\u001b[39;00m \u001b[38;5;28;01mNone\u001b[39;00m:\n\u001b[0;32m     76\u001b[0m     kwargs[\u001b[38;5;124m'\u001b[39m\u001b[38;5;124mdevice\u001b[39m\u001b[38;5;124m'\u001b[39m] \u001b[38;5;241m=\u001b[39m \u001b[38;5;28mself\u001b[39m\u001b[38;5;241m.\u001b[39mdevice\n\u001b[1;32m---> 77\u001b[0m \u001b[38;5;28;01mreturn\u001b[39;00m \u001b[43mfunc\u001b[49m\u001b[43m(\u001b[49m\u001b[38;5;241;43m*\u001b[39;49m\u001b[43margs\u001b[49m\u001b[43m,\u001b[49m\u001b[43m \u001b[49m\u001b[38;5;241;43m*\u001b[39;49m\u001b[38;5;241;43m*\u001b[39;49m\u001b[43mkwargs\u001b[49m\u001b[43m)\u001b[49m\n",
      "File \u001b[1;32mc:\\Users\\matthew.khoo.VITROX\\Miniconda3\\envs\\synthmorph\\lib\\site-packages\\torch\\cuda\\__init__.py:289\u001b[0m, in \u001b[0;36m_lazy_init\u001b[1;34m()\u001b[0m\n\u001b[0;32m    284\u001b[0m     \u001b[38;5;28;01mraise\u001b[39;00m \u001b[38;5;167;01mRuntimeError\u001b[39;00m(\n\u001b[0;32m    285\u001b[0m         \u001b[38;5;124m\"\u001b[39m\u001b[38;5;124mCannot re-initialize CUDA in forked subprocess. To use CUDA with \u001b[39m\u001b[38;5;124m\"\u001b[39m\n\u001b[0;32m    286\u001b[0m         \u001b[38;5;124m\"\u001b[39m\u001b[38;5;124mmultiprocessing, you must use the \u001b[39m\u001b[38;5;124m'\u001b[39m\u001b[38;5;124mspawn\u001b[39m\u001b[38;5;124m'\u001b[39m\u001b[38;5;124m start method\u001b[39m\u001b[38;5;124m\"\u001b[39m\n\u001b[0;32m    287\u001b[0m     )\n\u001b[0;32m    288\u001b[0m \u001b[38;5;28;01mif\u001b[39;00m \u001b[38;5;129;01mnot\u001b[39;00m \u001b[38;5;28mhasattr\u001b[39m(torch\u001b[38;5;241m.\u001b[39m_C, \u001b[38;5;124m\"\u001b[39m\u001b[38;5;124m_cuda_getDeviceCount\u001b[39m\u001b[38;5;124m\"\u001b[39m):\n\u001b[1;32m--> 289\u001b[0m     \u001b[38;5;28;01mraise\u001b[39;00m \u001b[38;5;167;01mAssertionError\u001b[39;00m(\u001b[38;5;124m\"\u001b[39m\u001b[38;5;124mTorch not compiled with CUDA enabled\u001b[39m\u001b[38;5;124m\"\u001b[39m)\n\u001b[0;32m    290\u001b[0m \u001b[38;5;28;01mif\u001b[39;00m _cudart \u001b[38;5;129;01mis\u001b[39;00m \u001b[38;5;28;01mNone\u001b[39;00m:\n\u001b[0;32m    291\u001b[0m     \u001b[38;5;28;01mraise\u001b[39;00m \u001b[38;5;167;01mAssertionError\u001b[39;00m(\n\u001b[0;32m    292\u001b[0m         \u001b[38;5;124m\"\u001b[39m\u001b[38;5;124mlibcudart functions unavailable. It looks like you have a broken build?\u001b[39m\u001b[38;5;124m\"\u001b[39m\n\u001b[0;32m    293\u001b[0m     )\n",
      "\u001b[1;31mAssertionError\u001b[0m: Torch not compiled with CUDA enabled"
     ]
    }
   ],
   "source": [
    "# Input shapes.\n",
    "in_shape = (256,) * 2\n",
    "num_dim = len(in_shape)\n",
    "num_label = 4\n",
    "label_map = dm.generate_map(in_shape, num_label, device=device)\n",
    "n = 16\n",
    "gen_args = dict(\n",
    "    warp_std=0,\n",
    "    warp_res=(8, 16, 32),\n",
    "    zero_background=1,\n",
    "    affine=True,\n",
    ")\n",
    "\n",
    "gen = [dm.labels_to_image(label_map, **gen_args) for _ in tqdm(range(n))]\n",
    "gen_images = [g['image'] for g in gen]\n",
    "gen_labels= [g['label'] for g in gen]\n",
    "\n",
    "plot_num = min(n, 4)\n",
    "fig, axes = plt.subplots(1, plot_num, figsize=(plot_num*8, 8))\n",
    "\n",
    "for i in range(plot_num):\n",
    "    image = gen_images[i].squeeze().tolist()\n",
    "    axes[i].imshow(image, cmap='gray')\n",
    "    axes[i].axis('off')\n",
    "\n",
    "plt.subplots_adjust(wspace=0.05)\n",
    "plt.show()"
   ]
  },
  {
   "cell_type": "code",
   "execution_count": null,
   "metadata": {},
   "outputs": [],
   "source": []
  }
 ],
 "metadata": {
  "kernelspec": {
   "display_name": "synthmorph",
   "language": "python",
   "name": "python3"
  },
  "language_info": {
   "codemirror_mode": {
    "name": "ipython",
    "version": 3
   },
   "file_extension": ".py",
   "mimetype": "text/x-python",
   "name": "python",
   "nbconvert_exporter": "python",
   "pygments_lexer": "ipython3",
   "version": "3.8.18"
  }
 },
 "nbformat": 4,
 "nbformat_minor": 2
}
